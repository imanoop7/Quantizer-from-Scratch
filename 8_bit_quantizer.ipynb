{
  "cells": [
    {
      "cell_type": "code",
      "execution_count": 1,
      "metadata": {
        "id": "hJCkIzBdV7l2"
      },
      "outputs": [],
      "source": [
        "pip install -qU transformers"
      ]
    },
    {
      "cell_type": "code",
      "execution_count": 2,
      "metadata": {
        "id": "ZZohwsC2Vt5M"
      },
      "outputs": [],
      "source": [
        "import torch\n",
        "import torch.nn as nn\n",
        "import torch.nn.functional as F\n",
        "from transformers import AutoTokenizer, AutoModelForCausalLM, pipeline\n",
        "import numpy as np"
      ]
    },
    {
      "cell_type": "code",
      "execution_count": 3,
      "metadata": {
        "colab": {
          "base_uri": "https://localhost:8080/"
        },
        "id": "yfUJsQzRVt5P",
        "outputId": "e3451ec5-e1d8-4624-8ce9-79caf8dc3e45"
      },
      "outputs": [
        {
          "name": "stdout",
          "output_type": "stream",
          "text": [
            "usage: huggingface-cli <command> [<args>] login [-h] [--token TOKEN] [--add-to-git-credential]\n",
            "huggingface-cli <command> [<args>] login: error: argument --token: expected one argument\n"
          ]
        }
      ],
      "source": [
        "!huggingface-cli login --token"
      ]
    },
    {
      "cell_type": "code",
      "execution_count": 38,
      "metadata": {
        "id": "VLd5UbiDVt5Q"
      },
      "outputs": [],
      "source": [
        "class QuantizerLayer(nn.Module):\n",
        "    def __init__(self, in_features, out_features, bias=True, dtype=torch.float32):\n",
        "        super().__init__()\n",
        "\n",
        "        self.register_buffer(\"weight\", torch.randint(-128,127,(out_features, in_features)).to(torch.int8))\n",
        "\n",
        "        self.register_buffer(\"scale\", torch.randn((out_features),dtype=dtype))\n",
        "        if bias:\n",
        "            self.register_buffer(\"bias\",torch.randn((1, out_features),dtype=dtype))\n",
        "        else:\n",
        "            self.bias = None\n",
        "\n",
        "\n",
        "    def quantize(self, weight):\n",
        "        weight_f32 = weight.clone().to(torch.float32)\n",
        "\n",
        "        Qmin = torch.iinfo(torch.int8).min\n",
        "        Qmax = torch.iinfo(torch.int8).max\n",
        "        scale = weight_f32.abs().max(dim=-1).values/127\n",
        "        scale = scale.to(weight.dtype)\n",
        "        quantized_weight = torch.clamp(torch.round(weight/scale.unsqueeze(-1)), Qmin, Qmax).to(torch.int8)\n",
        "\n",
        "        self.weight = quantized_weight\n",
        "        self.scale = scale\n",
        "\n",
        "\n",
        "    def forward(self, input):\n",
        "      output = F.linear(input, self.weight.to(input.dtype)) * self.scale\n",
        "      if self.bias is not None:\n",
        "          output = output +self.bias\n",
        "\n",
        "      return output\n"
      ]
    },
    {
      "cell_type": "code",
      "execution_count": 39,
      "metadata": {
        "id": "SZ2DBEt4Vt5R"
      },
      "outputs": [],
      "source": [
        "def replace_linearLayer(base_model, quantizer_class, exclude_list, quantized=True):\n",
        "    for name, child in base_model.named_children():\n",
        "        if isinstance(child, nn.Linear) and not any([x == name for x in exclude_list]):\n",
        "            old_bias = child.bias\n",
        "            old_weight = child.weight\n",
        "            in_features = child.in_features\n",
        "            out_features = child.out_features\n",
        "\n",
        "            quiantizer_layer = quantizer_class(in_features, out_features, bias=old_bias is not None, dtype=old_weight.dtype)\n",
        "\n",
        "            setattr(base_model, name, quiantizer_layer)\n",
        "\n",
        "            if quantized:\n",
        "                getattr(base_model, name).quantize(old_weight)\n",
        "\n",
        "            if old_bias is not None:\n",
        "                getattr(base_model, name).bias = old_bias\n",
        "\n",
        "        else:\n",
        "            replace_linearLayer(child, quantizer_class, exclude_list, quantized=quantized)\n",
        "\n"
      ]
    },
    {
      "cell_type": "code",
      "execution_count": 40,
      "metadata": {
        "id": "2EY4FsdIVt5S"
      },
      "outputs": [],
      "source": [
        "tokenzier = AutoTokenizer.from_pretrained(\"facebook/opt-350m\")\n",
        "model = AutoModelForCausalLM.from_pretrained(\"facebook/opt-350m\", torch_dtype=torch.bfloat16)"
      ]
    },
    {
      "cell_type": "code",
      "execution_count": 41,
      "metadata": {
        "colab": {
          "base_uri": "https://localhost:8080/"
        },
        "id": "xTdF9h7XVt5S",
        "outputId": "910499da-a553-4d19-90d8-8be6d226f042"
      },
      "outputs": [
        {
          "name": "stdout",
          "output_type": "stream",
          "text": [
            "OPTForCausalLM(\n",
            "  (model): OPTModel(\n",
            "    (decoder): OPTDecoder(\n",
            "      (embed_tokens): Embedding(50272, 512, padding_idx=1)\n",
            "      (embed_positions): OPTLearnedPositionalEmbedding(2050, 1024)\n",
            "      (project_out): Linear(in_features=1024, out_features=512, bias=False)\n",
            "      (project_in): Linear(in_features=512, out_features=1024, bias=False)\n",
            "      (layers): ModuleList(\n",
            "        (0-23): 24 x OPTDecoderLayer(\n",
            "          (self_attn): OPTAttention(\n",
            "            (k_proj): Linear(in_features=1024, out_features=1024, bias=True)\n",
            "            (v_proj): Linear(in_features=1024, out_features=1024, bias=True)\n",
            "            (q_proj): Linear(in_features=1024, out_features=1024, bias=True)\n",
            "            (out_proj): Linear(in_features=1024, out_features=1024, bias=True)\n",
            "          )\n",
            "          (activation_fn): ReLU()\n",
            "          (self_attn_layer_norm): LayerNorm((1024,), eps=1e-05, elementwise_affine=True)\n",
            "          (fc1): Linear(in_features=1024, out_features=4096, bias=True)\n",
            "          (fc2): Linear(in_features=4096, out_features=1024, bias=True)\n",
            "          (final_layer_norm): LayerNorm((1024,), eps=1e-05, elementwise_affine=True)\n",
            "        )\n",
            "      )\n",
            "    )\n",
            "  )\n",
            "  (lm_head): Linear(in_features=512, out_features=50272, bias=False)\n",
            ")\n"
          ]
        }
      ],
      "source": [
        "print(model)"
      ]
    },
    {
      "cell_type": "code",
      "execution_count": 42,
      "metadata": {
        "colab": {
          "base_uri": "https://localhost:8080/"
        },
        "id": "1FdMGuDTWeda",
        "outputId": "e094c732-6268-4a97-f7ec-aae08868b1af"
      },
      "outputs": [
        {
          "name": "stdout",
          "output_type": "stream",
          "text": [
            "Total memory size before quantization (in GB): 0.662392832\n"
          ]
        }
      ],
      "source": [
        "model_memory_size_before_quantization = model.get_memory_footprint()\n",
        "print(f\"Total memory size before quantization (in GB): {model_memory_size_before_quantization / 1e+9}\")"
      ]
    },
    {
      "cell_type": "code",
      "execution_count": 43,
      "metadata": {
        "colab": {
          "base_uri": "https://localhost:8080/"
        },
        "id": "tOZxAKIVWlkn",
        "outputId": "55fb0864-40aa-45cd-e07e-c8eea71cedac"
      },
      "outputs": [
        {
          "data": {
            "text/plain": [
              "[{'generated_text': \"Hello There,  I have an egg that matches your TSV. Could you hatch it for me?   Thanks in advance!\\nSure thing! I'll be available for the next few hours.\\nI'm available now.\\nI'm available now.\\n\"}]"
            ]
          },
          "execution_count": 43,
          "metadata": {},
          "output_type": "execute_result"
        }
      ],
      "source": [
        "pipe = pipeline(\"text-generation\", model=model, tokenizer=tokenzier)\n",
        "pipe(\"Hello There, \", max_new_tokens=50)"
      ]
    },
    {
      "cell_type": "code",
      "execution_count": 44,
      "metadata": {
        "colab": {
          "base_uri": "https://localhost:8080/"
        },
        "id": "yjlTkbbaXHgA",
        "outputId": "85203852-5316-49b6-bc87-5d0f4da4d72e"
      },
      "outputs": [
        {
          "data": {
            "text/plain": [
              "[{'generated_text': \"India is a beautiful country and  I would love to visit it. But I don't think I can afford to go there.\\nI'm sure you can afford to go there.\"}]"
            ]
          },
          "execution_count": 44,
          "metadata": {},
          "output_type": "execute_result"
        }
      ],
      "source": [
        "pipe(\"India is a beautiful country and \", max_new_tokens=50)"
      ]
    },
    {
      "cell_type": "code",
      "execution_count": 45,
      "metadata": {
        "id": "WFtwnOE3XSHE"
      },
      "outputs": [],
      "source": [
        "replace_linearLayer(model, QuantizerLayer, [\"lm_head\"], quantized=True)"
      ]
    },
    {
      "cell_type": "code",
      "execution_count": 46,
      "metadata": {
        "colab": {
          "base_uri": "https://localhost:8080/"
        },
        "id": "92oIuq8tXpZ3",
        "outputId": "a08eeeb0-b4e0-48c1-cb83-3782f3ef4c2f"
      },
      "outputs": [
        {
          "name": "stdout",
          "output_type": "stream",
          "text": [
            "OPTForCausalLM(\n",
            "  (model): OPTModel(\n",
            "    (decoder): OPTDecoder(\n",
            "      (embed_tokens): Embedding(50272, 512, padding_idx=1)\n",
            "      (embed_positions): OPTLearnedPositionalEmbedding(2050, 1024)\n",
            "      (project_out): QuantizerLayer()\n",
            "      (project_in): QuantizerLayer()\n",
            "      (layers): ModuleList(\n",
            "        (0-23): 24 x OPTDecoderLayer(\n",
            "          (self_attn): OPTAttention(\n",
            "            (k_proj): QuantizerLayer()\n",
            "            (v_proj): QuantizerLayer()\n",
            "            (q_proj): QuantizerLayer()\n",
            "            (out_proj): QuantizerLayer()\n",
            "          )\n",
            "          (activation_fn): ReLU()\n",
            "          (self_attn_layer_norm): LayerNorm((1024,), eps=1e-05, elementwise_affine=True)\n",
            "          (fc1): QuantizerLayer()\n",
            "          (fc2): QuantizerLayer()\n",
            "          (final_layer_norm): LayerNorm((1024,), eps=1e-05, elementwise_affine=True)\n",
            "        )\n",
            "      )\n",
            "    )\n",
            "  )\n",
            "  (lm_head): Linear(in_features=512, out_features=50272, bias=False)\n",
            ")\n"
          ]
        }
      ],
      "source": [
        "print(model)"
      ]
    },
    {
      "cell_type": "code",
      "execution_count": 47,
      "metadata": {
        "colab": {
          "base_uri": "https://localhost:8080/"
        },
        "id": "S9WOXctGYaEa",
        "outputId": "2a6c6267-ba03-49b1-fe72-fcc747e19292"
      },
      "outputs": [
        {
          "name": "stdout",
          "output_type": "stream",
          "text": [
            "Total memory size before quantization (in GB): 0.359799808\n"
          ]
        }
      ],
      "source": [
        "model_memory_size_before_quantization = model.get_memory_footprint()\n",
        "print(f\"Total memory size before quantization (in GB): {model_memory_size_before_quantization / 1e+9}\")"
      ]
    },
    {
      "cell_type": "code",
      "execution_count": 48,
      "metadata": {
        "colab": {
          "base_uri": "https://localhost:8080/"
        },
        "id": "0nw0zZJeYiuU",
        "outputId": "6183b302-71e5-4f51-e619-5d098cf3ca9f"
      },
      "outputs": [
        {
          "data": {
            "text/plain": [
              "[{'generated_text': \"India is a beautiful country and   I'm sure you'll be able to find a job there.                                     \"}]"
            ]
          },
          "execution_count": 48,
          "metadata": {},
          "output_type": "execute_result"
        }
      ],
      "source": [
        "pipe = pipeline(\"text-generation\", model=model, tokenizer=tokenzier)\n",
        "pipe(\"India is a beautiful country and  \", max_new_tokens=50)"
      ]
    },
    {
      "cell_type": "code",
      "execution_count": null,
      "metadata": {
        "id": "lMQ_iLvthB3D"
      },
      "outputs": [],
      "source": []
    }
  ],
  "metadata": {
    "colab": {
      "provenance": []
    },
    "kernelspec": {
      "display_name": "Python 3",
      "name": "python3"
    },
    "language_info": {
      "codemirror_mode": {
        "name": "ipython",
        "version": 3
      },
      "file_extension": ".py",
      "mimetype": "text/x-python",
      "name": "python",
      "nbconvert_exporter": "python",
      "pygments_lexer": "ipython3",
      "version": "3.12.3"
    }
  },
  "nbformat": 4,
  "nbformat_minor": 0
}
