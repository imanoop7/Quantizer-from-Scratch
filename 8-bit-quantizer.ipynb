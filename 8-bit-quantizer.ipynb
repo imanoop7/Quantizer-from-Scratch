{
 "cells": [
  {
   "cell_type": "code",
   "execution_count": 3,
   "metadata": {},
   "outputs": [
    {
     "name": "stderr",
     "output_type": "stream",
     "text": [
      "c:\\Users\\Anoop Maurya\\AppData\\Local\\Programs\\Python\\Python312\\Lib\\site-packages\\tqdm\\auto.py:21: TqdmWarning: IProgress not found. Please update jupyter and ipywidgets. See https://ipywidgets.readthedocs.io/en/stable/user_install.html\n",
      "  from .autonotebook import tqdm as notebook_tqdm\n"
     ]
    }
   ],
   "source": [
    "import torch\n",
    "import torch.nn as nn\n",
    "import torch.nn.functional as F\n",
    "from transformers import AutoTokenizer, AutoModelForCausalLM, pipeline"
   ]
  },
  {
   "cell_type": "code",
   "execution_count": 4,
   "metadata": {},
   "outputs": [
    {
     "name": "stdout",
     "output_type": "stream",
     "text": [
      "The token has not been saved to the git credentials helper. Pass `add_to_git_credential=True` in this function directly or `--add-to-git-credential` if using via `huggingface-cli` if you want to set the git credential as well.\n",
      "Token is valid (permission: write).\n",
      "Your token has been saved to C:\\Users\\Anoop Maurya\\.cache\\huggingface\\token\n",
      "Login successful\n"
     ]
    }
   ],
   "source": [
    "!huggingface-cli login --token "
   ]
  },
  {
   "cell_type": "code",
   "execution_count": 5,
   "metadata": {},
   "outputs": [],
   "source": [
    "class QuantizerLayer(nn.Module):\n",
    "    def __init__(self, in_features, out_features, bias=True, dtype=torch.float32):\n",
    "        super().__init__()\n",
    "\n",
    "        self.register_buffer(\"weight\", torch.randint(-128,127,(out_features, in_features).to(torch.int8)))\n",
    "\n",
    "        self.register_buffer(\"scale\", torch.randn((out_features),dtype=dtype))\n",
    "        if bias:\n",
    "            self.register_buffer(\"bias\",torch.randn((1, out_features),dtype=dtype))\n",
    "        else:\n",
    "            self.bias = None\n",
    "        \n",
    "\n",
    "    def quantize(self, weight):\n",
    "        weight_f32 = weight.clone().to(torch.float32)\n",
    "\n",
    "        Qmin = torch.iinfo(torch.int8).min\n",
    "        Qmax = torch.iinfo(torch.int8).max\n",
    "        scale = weight_f32.abs().max(dim=-1).values/127\n",
    "        scale = scale.to(weight.dtype)\n",
    "        quantized_weight = torch.clamp(torch.round(weight/scale.unsqueeze(-1)), Qmin, Qmax).to(torch.int8)\n",
    "\n",
    "        self.weight = quantized_weight\n",
    "        self.scale = scale\n",
    "\n",
    "\n",
    "    def forward(self, input):\n",
    "        ouput = F.linear(input, self.weight.to(input.dtpye)) *self.scale\n",
    "        if self.bias is not None:\n",
    "            output = output +self.bias\n",
    "\n",
    "        return output\n",
    "        "
   ]
  },
  {
   "cell_type": "code",
   "execution_count": 6,
   "metadata": {},
   "outputs": [],
   "source": [
    "def replace_linearLayer(base_model, quantizer_class, exclude_list, quantized=True):\n",
    "    for name, child in base_model.name_children():\n",
    "        if isinstance(child, nn.Linear) and not any([x == name for x in exclude_list]):\n",
    "            old_bias = child.bias\n",
    "            old_weight = child.weight  \n",
    "            in_features = child.in_features\n",
    "            out_features = child.out_features\n",
    "\n",
    "            quiantizer_layer = quantizer_class(in_features, out_features, bias=old_bias is not None, dtype=old_weight.dtype)\n",
    "\n",
    "            setattr(base_model, name, quiantizer_layer)\n",
    "\n",
    "            if quantized:\n",
    "                getattr(base_model, name).quantize(old_weight)\n",
    "\n",
    "            if old_bias is not None:\n",
    "                getattr(base_model, name).bias = old_bias\n",
    "\n",
    "        else:\n",
    "            replace_linearLayer(child, quantizer_class, exclude_list, quantized=quantized)\n",
    "\n",
    "            "
   ]
  },
  {
   "cell_type": "code",
   "execution_count": 7,
   "metadata": {},
   "outputs": [
    {
     "name": "stderr",
     "output_type": "stream",
     "text": [
      "c:\\Users\\Anoop Maurya\\AppData\\Local\\Programs\\Python\\Python312\\Lib\\site-packages\\huggingface_hub\\file_download.py:159: UserWarning: `huggingface_hub` cache-system uses symlinks by default to efficiently store duplicated files but your machine does not support them in C:\\Users\\Anoop Maurya\\.cache\\huggingface\\hub\\models--facebook--opt-350m. Caching files will still work but in a degraded version that might require more space on your disk. This warning can be disabled by setting the `HF_HUB_DISABLE_SYMLINKS_WARNING` environment variable. For more details, see https://huggingface.co/docs/huggingface_hub/how-to-cache#limitations.\n",
      "To support symlinks on Windows, you either need to activate Developer Mode or to run Python as an administrator. In order to see activate developer mode, see this article: https://docs.microsoft.com/en-us/windows/apps/get-started/enable-your-device-for-development\n",
      "  warnings.warn(message)\n"
     ]
    }
   ],
   "source": [
    "tokenzier = AutoTokenizer.from_pretrained(\"facebook/opt-350m\")\n",
    "model = AutoModelForCausalLM.from_pretrained(\"facebook/opt-350m\", torch_dtype=torch.float16)"
   ]
  },
  {
   "cell_type": "code",
   "execution_count": null,
   "metadata": {},
   "outputs": [],
   "source": []
  }
 ],
 "metadata": {
  "kernelspec": {
   "display_name": ".venv",
   "language": "python",
   "name": "python3"
  },
  "language_info": {
   "codemirror_mode": {
    "name": "ipython",
    "version": 3
   },
   "file_extension": ".py",
   "mimetype": "text/x-python",
   "name": "python",
   "nbconvert_exporter": "python",
   "pygments_lexer": "ipython3",
   "version": "3.12.3"
  }
 },
 "nbformat": 4,
 "nbformat_minor": 2
}
